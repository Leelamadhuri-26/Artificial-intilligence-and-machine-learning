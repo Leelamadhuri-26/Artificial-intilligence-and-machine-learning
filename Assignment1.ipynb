{
  "cells": [
    {
      "cell_type": "markdown",
      "metadata": {
        "id": "view-in-github",
        "colab_type": "text"
      },
      "source": [
        "<a href=\"https://colab.research.google.com/github/Leelamadhuri-26/Artificial-intilligence-and-machine-learning/blob/main/Assignment1.ipynb\" target=\"_parent\"><img src=\"https://colab.research.google.com/assets/colab-badge.svg\" alt=\"Open In Colab\"/></a>"
      ]
    },
    {
      "cell_type": "code",
      "execution_count": null,
      "metadata": {
        "colab": {
          "base_uri": "https://localhost:8080/"
        },
        "id": "oza6laOyqoZy",
        "outputId": "64e9cbec-5cf1-40b2-c59e-5c9aebe49fc0"
      },
      "outputs": [
        {
          "data": {
            "text/plain": [
              "[1, 2, 3, 4, 5, 6, 7, 8]"
            ]
          },
          "execution_count": 1,
          "metadata": {},
          "output_type": "execute_result"
        }
      ],
      "source": [
        "# Task-1 : Create two list and join those two list\n",
        "\n",
        "list1 = [1,2,3,4]\n",
        "list2 = [5,6,7,8]\n",
        "list3 = list1+list2\n",
        "list3"
      ]
    },
    {
      "cell_type": "code",
      "execution_count": null,
      "metadata": {
        "colab": {
          "base_uri": "https://localhost:8080/"
        },
        "id": "PHZRiu-ssChz",
        "outputId": "e118a0a9-f2bf-4ff9-c5d7-d8d53c82ea15"
      },
      "outputs": [
        {
          "name": "stdout",
          "output_type": "stream",
          "text": [
            "enter a number22\n",
            "even number\n"
          ]
        }
      ],
      "source": [
        "# Task-2 with if statement find then even numbers\n",
        "\n",
        "num = int(input(\"enter a number\"))\n",
        "if(num%2==0):\n",
        " print(\"even number\")\n",
        "else:\n",
        " print(\"odd number\")"
      ]
    },
    {
      "cell_type": "code",
      "execution_count": null,
      "metadata": {
        "colab": {
          "background_save": true
        },
        "id": "zOanDqs9syuX",
        "outputId": "81048c21-a535-4c39-8311-2db07cd36cd7"
      },
      "outputs": [
        {
          "data": {
            "text/plain": [
              "[3, 4]"
            ]
          },
          "execution_count": 4,
          "metadata": {},
          "output_type": "execute_result"
        }
      ],
      "source": [
        "#  Task-3 Create a dictionary with 3keys and 2 values for each key\n",
        "\n",
        "data = {\"leela\":[1,2],\"ani\":[3,4],\"sushma\":[6,7]}\n"
      ]
    },
    {
      "cell_type": "code",
      "source": [
        "# Task-4 Create a function with if statement wg=hich is used to find the odd numbers\n",
        "\n",
        "num = int(input(\"enter a number\"))\n",
        "if(num%2==0):\n",
        " print(\"It is not an odd number\")\n",
        "else:\n",
        " print(\"It is an odd number\")"
      ],
      "metadata": {
        "colab": {
          "base_uri": "https://localhost:8080/"
        },
        "id": "fQZzhAJTv4GP",
        "outputId": "7e4c5e89-eefd-46c3-adb7-23b8d907e7ec"
      },
      "execution_count": null,
      "outputs": [
        {
          "output_type": "stream",
          "name": "stdout",
          "text": [
            "enter a number29\n",
            "odd number\n"
          ]
        }
      ]
    },
    {
      "cell_type": "code",
      "source": [
        "# Task-5 Write a python function to sum all the numbers in a list - sample list:(8,2,3,0,7)\n",
        "\n",
        "data = [8,2,3,0,7]\n",
        "sum(data)"
      ],
      "metadata": {
        "colab": {
          "base_uri": "https://localhost:8080/"
        },
        "id": "K7xINPJN7znU",
        "outputId": "1a2a7a93-ee72-4723-d32f-b2774e39767f"
      },
      "execution_count": null,
      "outputs": [
        {
          "output_type": "execute_result",
          "data": {
            "text/plain": [
              "20"
            ]
          },
          "metadata": {},
          "execution_count": 8
        }
      ]
    }
  ],
  "metadata": {
    "colab": {
      "provenance": [],
      "authorship_tag": "ABX9TyMCuCbQSEepYl4UFDlQzXh7",
      "include_colab_link": true
    },
    "kernelspec": {
      "display_name": "Python 3",
      "name": "python3"
    },
    "language_info": {
      "name": "python"
    }
  },
  "nbformat": 4,
  "nbformat_minor": 0
}